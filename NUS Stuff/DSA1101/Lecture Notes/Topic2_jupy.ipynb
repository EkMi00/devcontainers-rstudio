{
 "cells": [
  {
   "cell_type": "code",
   "execution_count": 2,
   "metadata": {},
   "outputs": [],
   "source": [
    "import os\n",
    "datadir = \"C:\\\\Users\\\\Keck\\\\Documents\\\\GitHub\\\\devcontainers-rstudio\\\\NUS Stuff\\\\DSA1101\\\\Data\"\n",
    "os.chdir(datadir)\n",
    "# print(os.getcwd())"
   ]
  },
  {
   "cell_type": "code",
   "execution_count": 3,
   "metadata": {},
   "outputs": [
    {
     "name": "stdout",
     "output_type": "stream",
     "text": [
      "count    10000.000000\n",
      "mean       249.455676\n",
      "std        319.050782\n",
      "min         30.020000\n",
      "25%         80.292500\n",
      "50%        151.650000\n",
      "75%        295.502500\n",
      "max       7606.090000\n",
      "Name: sales_total, dtype: float64\n"
     ]
    }
   ],
   "source": [
    "import pandas as pd\n",
    "\n",
    "sales = pd.read_csv(\"yearly_sales.csv\")\n",
    "# print(sales.head())\n",
    "\n",
    "total = sales[\"sales_total\"]\n",
    "stats = total.describe()\n",
    "print(stats)\n",
    "\n",
    "med = total.median()\n",
    "var = total.var()"
   ]
  }
 ],
 "metadata": {
  "kernelspec": {
   "display_name": "Python 3",
   "language": "python",
   "name": "python3"
  },
  "language_info": {
   "codemirror_mode": {
    "name": "ipython",
    "version": 3
   },
   "file_extension": ".py",
   "mimetype": "text/x-python",
   "name": "python",
   "nbconvert_exporter": "python",
   "pygments_lexer": "ipython3",
   "version": "3.10.8"
  }
 },
 "nbformat": 4,
 "nbformat_minor": 2
}
