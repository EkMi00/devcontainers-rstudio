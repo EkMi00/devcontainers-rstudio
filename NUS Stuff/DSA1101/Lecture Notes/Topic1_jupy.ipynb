{
 "cells": [
  {
   "cell_type": "code",
   "execution_count": 7,
   "metadata": {},
   "outputs": [
    {
     "name": "stdout",
     "output_type": "stream",
     "text": [
      "(1, 1, 1)\n"
     ]
    }
   ],
   "source": [
    "# Replicate object a by b times\n",
    "three_times = (1,) * 3\n",
    "print(three_times)"
   ]
  },
  {
   "cell_type": "code",
   "execution_count": 8,
   "metadata": {},
   "outputs": [
    {
     "name": "stdout",
     "output_type": "stream",
     "text": [
      "[10, 8, 6, 4, 2]\n",
      "[2, 4, 6, 8]\n"
     ]
    }
   ],
   "source": [
    "# Sequence numbers\n",
    "print(list(range(10, 0, -2)))\n",
    "\n",
    "print(list(range(2, 10, 2)))"
   ]
  },
  {
   "cell_type": "code",
   "execution_count": 9,
   "metadata": {},
   "outputs": [
    {
     "name": "stdout",
     "output_type": "stream",
     "text": [
      "[ 4.  1. -3.  4.]\n",
      "[ 4  1 -3  4]\n"
     ]
    }
   ],
   "source": [
    "import pandas as pd\n",
    "import numpy as np\n",
    "\n",
    "df = pd.DataFrame([[0, 1, -2, -1], [1, 1, 1, 1]])\n",
    "# print(df)\n",
    "seq = np.array(list(range(1, 10))).reshape(3,3)\n",
    "df2 = pd.DataFrame(seq)\n",
    "# print(df2)\n",
    "\n",
    "seq2 = np.array([[1, 1, 0, 3, 4], [2, 1, -1, 1, 1], [3, -1, -1, 2, -3], [-1, 2, 3, -1, 4]])\n",
    "df2 = pd.DataFrame(seq2)\n",
    "# print(df2)\n",
    "x = seq2[:,:-1]\n",
    "# print(np.linalg.det(x))\n",
    "y = seq2[:,-1]\n",
    "soln = np.linalg.solve(x, y)\n",
    "\n",
    "y_hat = np.matmul(x, soln)\n",
    "print(y_hat)\n",
    "print(y)"
   ]
  },
  {
   "cell_type": "code",
   "execution_count": null,
   "metadata": {},
   "outputs": [],
   "source": []
  }
 ],
 "metadata": {
  "kernelspec": {
   "display_name": "Python 3",
   "language": "python",
   "name": "python3"
  },
  "language_info": {
   "codemirror_mode": {
    "name": "ipython",
    "version": 3
   },
   "file_extension": ".py",
   "mimetype": "text/x-python",
   "name": "python",
   "nbconvert_exporter": "python",
   "pygments_lexer": "ipython3",
   "version": "3.10.12"
  }
 },
 "nbformat": 4,
 "nbformat_minor": 2
}
